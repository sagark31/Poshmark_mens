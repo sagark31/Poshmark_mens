{
 "cells": [
  {
   "cell_type": "markdown",
   "id": "07839715",
   "metadata": {},
   "source": [
    "# Poshmark\n",
    "is a leading social marketplace for new and secondhand style for women, men, kids, pets, home, and more. By combining the human connection of physical shopping with the scale, ease, and selection benefits of e-commerce, Poshmark makes buying and selling simple, social, and sustainable. Its community of more than 80 million registered users across the U.S., Canada, Australia, and India, is driving the future of commerce while promoting more sustainable consumption. For more information, please visit www.poshmark.com, and for company news and announcements, please visit investors.poshmark.com. You can also find Poshmark on Instagram, Facebook, Twitter, Pinterest, and YouTube.\n"
   ]
  },
  {
   "cell_type": "markdown",
   "id": "8033c5aa",
   "metadata": {},
   "source": [
    "Here I am going to analysis the men's section from the poshmark website. First I scraped the data like title, category, sale_price , normal_price, seller's name, and product size. Then created an data frame out of raw data for further data analysis then done some data cleaning like changing column name, removing characters, handling duplicates, changing data types and then used some visulization for finding relationship between various features.  \n",
    "\n",
    "Second thing I have done a rough Statistical Analysis and build an rough regression model for predicting sale_price value based on regular_price.\n",
    "\n",
    "At last I exported the data in csv for using in creating an PowerBI dashboard."
   ]
  },
  {
   "cell_type": "code",
   "execution_count": 1,
   "id": "d0dc5579",
   "metadata": {},
   "outputs": [],
   "source": [
    "# Importing necessary libraries\n",
    "import pandas as pd\n",
    "import numpy as np\n",
    "import matplotlib.pyplot as plt\n",
    "import seaborn as sns\n"
   ]
  },
  {
   "cell_type": "code",
   "execution_count": 2,
   "id": "438eec52",
   "metadata": {},
   "outputs": [],
   "source": [
    "# Scraping data from the site\n",
    "import requests\n",
    "from bs4 import BeautifulSoup\n",
    "\n",
    "# Initialize the page number and empty list for storing data\n",
    "page_num = 1\n",
    "data = []\n",
    "\n",
    "while True:\n",
    "    # Construct the URL for the current page\n",
    "    URL = f\"https://poshmark.com/category/Men?max_id={page_num}\"\n",
    "    page = requests.get(URL)\n",
    "\n",
    "    # Parse the HTML of the page\n",
    "    soup = BeautifulSoup(page.content, 'html.parser')\n",
    "\n",
    "    # Find all items on the page\n",
    "    items = soup.find_all('div', class_='item__details')\n",
    "\n",
    "    # If there are no items on the page, we have reached the last page\n",
    "    if not items:\n",
    "        break\n",
    "\n",
    "    # Iterate over each item and extract the relevant data\n",
    "    for item in items:\n",
    "        # Find the title element\n",
    "        product_name = soup.find('a', class_='tile__title')\n",
    "        # Extract the title text\n",
    "        product_name = product_name.text\n",
    "        \n",
    "        # Find the price elements\n",
    "        price_elements = soup.find_all('span', class_='fw--bold')\n",
    "        # Extract the price text\n",
    "        regular_price = price_elements[0].text\n",
    "        sale_price = price_elements[1].text\n",
    "\n",
    "        # Find the seller element\n",
    "        seller_element = soup.find('a', class_='tile__creator')\n",
    "        # Extract the seller name\n",
    "        seller = seller_element.text\n",
    "\n",
    "        # Find the size element\n",
    "        size_element = soup.find('a', class_='tile__details__pipe__size')\n",
    "        # Extract the size text\n",
    "        size = size_element.text.strip()[6:]\n",
    "\n",
    "        # Find the category element\n",
    "        brand = soup.find('a', class_='tile__details__pipe__brand')\n",
    "        # Extract the category text\n",
    "        brand = brand.text\n",
    "\n",
    "       \n",
    "\n",
    "        # Store the data in a dictionary\n",
    "        item_data = {\n",
    "            'product_name': product_name,\n",
    "            'regular_price': regular_price,\n",
    "            'sale_price': sale_price,\n",
    "            'seller': seller,\n",
    "            'size': size,\n",
    "            'brand': brand\n",
    "                    }\n",
    "        # Append the dictionary to the list\n",
    "        data.append(item_data)\n",
    "\n",
    "    # Increment the page number\n",
    "    page_num += 1\n",
    "\n"
   ]
  },
  {
   "cell_type": "markdown",
   "id": "41637398",
   "metadata": {},
   "source": [
    "# Exploratory Data Analysis"
   ]
  },
  {
   "cell_type": "code",
   "execution_count": 3,
   "id": "77839649",
   "metadata": {},
   "outputs": [],
   "source": [
    "#creating dataframe from the scrapped data\n",
    "df=pd.DataFrame(data)"
   ]
  },
  {
   "cell_type": "code",
   "execution_count": 4,
   "id": "2884db68",
   "metadata": {},
   "outputs": [
    {
     "data": {
      "text/html": [
       "<div>\n",
       "<style scoped>\n",
       "    .dataframe tbody tr th:only-of-type {\n",
       "        vertical-align: middle;\n",
       "    }\n",
       "\n",
       "    .dataframe tbody tr th {\n",
       "        vertical-align: top;\n",
       "    }\n",
       "\n",
       "    .dataframe thead th {\n",
       "        text-align: right;\n",
       "    }\n",
       "</style>\n",
       "<table border=\"1\" class=\"dataframe\">\n",
       "  <thead>\n",
       "    <tr style=\"text-align: right;\">\n",
       "      <th></th>\n",
       "      <th>product_name</th>\n",
       "      <th>regular_price</th>\n",
       "      <th>sale_price</th>\n",
       "      <th>seller</th>\n",
       "      <th>size</th>\n",
       "      <th>brand</th>\n",
       "    </tr>\n",
       "  </thead>\n",
       "  <tbody>\n",
       "    <tr>\n",
       "      <th>0</th>\n",
       "      <td>\\n            MICHAEL KORS SWEATER     NWT\\n  ...</td>\n",
       "      <td>\\n              $85\\n</td>\n",
       "      <td>\\n              $18\\n</td>\n",
       "      <td>chelstreasures</td>\n",
       "      <td>XL</td>\n",
       "      <td>\\n              Michael Kors\\n</td>\n",
       "    </tr>\n",
       "    <tr>\n",
       "      <th>1</th>\n",
       "      <td>\\n            MICHAEL KORS SWEATER     NWT\\n  ...</td>\n",
       "      <td>\\n              $85\\n</td>\n",
       "      <td>\\n              $18\\n</td>\n",
       "      <td>chelstreasures</td>\n",
       "      <td>XL</td>\n",
       "      <td>\\n              Michael Kors\\n</td>\n",
       "    </tr>\n",
       "    <tr>\n",
       "      <th>2</th>\n",
       "      <td>\\n            MICHAEL KORS SWEATER     NWT\\n  ...</td>\n",
       "      <td>\\n              $85\\n</td>\n",
       "      <td>\\n              $18\\n</td>\n",
       "      <td>chelstreasures</td>\n",
       "      <td>XL</td>\n",
       "      <td>\\n              Michael Kors\\n</td>\n",
       "    </tr>\n",
       "    <tr>\n",
       "      <th>3</th>\n",
       "      <td>\\n            MICHAEL KORS SWEATER     NWT\\n  ...</td>\n",
       "      <td>\\n              $85\\n</td>\n",
       "      <td>\\n              $18\\n</td>\n",
       "      <td>chelstreasures</td>\n",
       "      <td>XL</td>\n",
       "      <td>\\n              Michael Kors\\n</td>\n",
       "    </tr>\n",
       "    <tr>\n",
       "      <th>4</th>\n",
       "      <td>\\n            MICHAEL KORS SWEATER     NWT\\n  ...</td>\n",
       "      <td>\\n              $85\\n</td>\n",
       "      <td>\\n              $18\\n</td>\n",
       "      <td>chelstreasures</td>\n",
       "      <td>XL</td>\n",
       "      <td>\\n              Michael Kors\\n</td>\n",
       "    </tr>\n",
       "  </tbody>\n",
       "</table>\n",
       "</div>"
      ],
      "text/plain": [
       "                                        product_name  \\\n",
       "0  \\n            MICHAEL KORS SWEATER     NWT\\n  ...   \n",
       "1  \\n            MICHAEL KORS SWEATER     NWT\\n  ...   \n",
       "2  \\n            MICHAEL KORS SWEATER     NWT\\n  ...   \n",
       "3  \\n            MICHAEL KORS SWEATER     NWT\\n  ...   \n",
       "4  \\n            MICHAEL KORS SWEATER     NWT\\n  ...   \n",
       "\n",
       "                       regular_price                         sale_price  \\\n",
       "0  \\n              $85\\n              \\n              $18\\n               \n",
       "1  \\n              $85\\n              \\n              $18\\n               \n",
       "2  \\n              $85\\n              \\n              $18\\n               \n",
       "3  \\n              $85\\n              \\n              $18\\n               \n",
       "4  \\n              $85\\n              \\n              $18\\n               \n",
       "\n",
       "           seller size                                       brand  \n",
       "0  chelstreasures   XL  \\n              Michael Kors\\n              \n",
       "1  chelstreasures   XL  \\n              Michael Kors\\n              \n",
       "2  chelstreasures   XL  \\n              Michael Kors\\n              \n",
       "3  chelstreasures   XL  \\n              Michael Kors\\n              \n",
       "4  chelstreasures   XL  \\n              Michael Kors\\n              "
      ]
     },
     "execution_count": 4,
     "metadata": {},
     "output_type": "execute_result"
    }
   ],
   "source": [
    "df.head()"
   ]
  },
  {
   "cell_type": "code",
   "execution_count": 5,
   "id": "60a736a8",
   "metadata": {},
   "outputs": [
    {
     "name": "stderr",
     "output_type": "stream",
     "text": [
      "C:\\Users\\sagar\\AppData\\Local\\Temp\\ipykernel_21740\\1894172858.py:6: FutureWarning: The default value of regex will change from True to False in a future version. In addition, single character regular expressions will *not* be treated as literal strings when regex=True.\n",
      "  df['regular_price']=df['regular_price'].str.replace('$', '')\n",
      "C:\\Users\\sagar\\AppData\\Local\\Temp\\ipykernel_21740\\1894172858.py:7: FutureWarning: The default value of regex will change from True to False in a future version. In addition, single character regular expressions will *not* be treated as literal strings when regex=True.\n",
      "  df['sale_price']=df['sale_price'].str.replace('$', '')\n"
     ]
    }
   ],
   "source": [
    "#cleaning the data and replacing undwanted characters.\n",
    "df['product_name'] = df['product_name'].str.replace('\\n', '')\n",
    "df['regular_price']=df['regular_price'].str.replace('\\n', '')\n",
    "df['sale_price']=df['sale_price'].str.replace('\\n', '')\n",
    "df['brand']=df['brand'].str.replace('\\n', '')\n",
    "df['regular_price']=df['regular_price'].str.replace('$', '')\n",
    "df['sale_price']=df['sale_price'].str.replace('$', '')\n",
    "df['regular_price']=df['regular_price'].str.replace(' ', '')\n",
    "df['sale_price']=df['sale_price'].str.replace(' ', '')\n",
    "df['regular_price']=df['regular_price'].str.replace(',', '')\n",
    "df['sale_price']=df['sale_price'].str.replace(',', '')"
   ]
  },
  {
   "cell_type": "code",
   "execution_count": 6,
   "id": "92e5a5fd",
   "metadata": {},
   "outputs": [
    {
     "data": {
      "text/html": [
       "<div>\n",
       "<style scoped>\n",
       "    .dataframe tbody tr th:only-of-type {\n",
       "        vertical-align: middle;\n",
       "    }\n",
       "\n",
       "    .dataframe tbody tr th {\n",
       "        vertical-align: top;\n",
       "    }\n",
       "\n",
       "    .dataframe thead th {\n",
       "        text-align: right;\n",
       "    }\n",
       "</style>\n",
       "<table border=\"1\" class=\"dataframe\">\n",
       "  <thead>\n",
       "    <tr style=\"text-align: right;\">\n",
       "      <th></th>\n",
       "      <th>product_name</th>\n",
       "      <th>regular_price</th>\n",
       "      <th>sale_price</th>\n",
       "      <th>seller</th>\n",
       "      <th>size</th>\n",
       "      <th>brand</th>\n",
       "    </tr>\n",
       "  </thead>\n",
       "  <tbody>\n",
       "    <tr>\n",
       "      <th>0</th>\n",
       "      <td>MICHAEL KORS SWEATER     NWT      ...</td>\n",
       "      <td>85</td>\n",
       "      <td>18</td>\n",
       "      <td>chelstreasures</td>\n",
       "      <td>XL</td>\n",
       "      <td>Michael Kors</td>\n",
       "    </tr>\n",
       "    <tr>\n",
       "      <th>1</th>\n",
       "      <td>MICHAEL KORS SWEATER     NWT      ...</td>\n",
       "      <td>85</td>\n",
       "      <td>18</td>\n",
       "      <td>chelstreasures</td>\n",
       "      <td>XL</td>\n",
       "      <td>Michael Kors</td>\n",
       "    </tr>\n",
       "    <tr>\n",
       "      <th>2</th>\n",
       "      <td>MICHAEL KORS SWEATER     NWT      ...</td>\n",
       "      <td>85</td>\n",
       "      <td>18</td>\n",
       "      <td>chelstreasures</td>\n",
       "      <td>XL</td>\n",
       "      <td>Michael Kors</td>\n",
       "    </tr>\n",
       "    <tr>\n",
       "      <th>3</th>\n",
       "      <td>MICHAEL KORS SWEATER     NWT      ...</td>\n",
       "      <td>85</td>\n",
       "      <td>18</td>\n",
       "      <td>chelstreasures</td>\n",
       "      <td>XL</td>\n",
       "      <td>Michael Kors</td>\n",
       "    </tr>\n",
       "    <tr>\n",
       "      <th>4</th>\n",
       "      <td>MICHAEL KORS SWEATER     NWT      ...</td>\n",
       "      <td>85</td>\n",
       "      <td>18</td>\n",
       "      <td>chelstreasures</td>\n",
       "      <td>XL</td>\n",
       "      <td>Michael Kors</td>\n",
       "    </tr>\n",
       "  </tbody>\n",
       "</table>\n",
       "</div>"
      ],
      "text/plain": [
       "                                        product_name regular_price sale_price  \\\n",
       "0              MICHAEL KORS SWEATER     NWT      ...            85         18   \n",
       "1              MICHAEL KORS SWEATER     NWT      ...            85         18   \n",
       "2              MICHAEL KORS SWEATER     NWT      ...            85         18   \n",
       "3              MICHAEL KORS SWEATER     NWT      ...            85         18   \n",
       "4              MICHAEL KORS SWEATER     NWT      ...            85         18   \n",
       "\n",
       "           seller size                                   brand  \n",
       "0  chelstreasures   XL                Michael Kors              \n",
       "1  chelstreasures   XL                Michael Kors              \n",
       "2  chelstreasures   XL                Michael Kors              \n",
       "3  chelstreasures   XL                Michael Kors              \n",
       "4  chelstreasures   XL                Michael Kors              "
      ]
     },
     "execution_count": 6,
     "metadata": {},
     "output_type": "execute_result"
    }
   ],
   "source": [
    "df.head()"
   ]
  },
  {
   "cell_type": "code",
   "execution_count": 7,
   "id": "9a030407",
   "metadata": {},
   "outputs": [
    {
     "name": "stdout",
     "output_type": "stream",
     "text": [
      "<class 'pandas.core.frame.DataFrame'>\n",
      "RangeIndex: 5040 entries, 0 to 5039\n",
      "Data columns (total 6 columns):\n",
      " #   Column         Non-Null Count  Dtype \n",
      "---  ------         --------------  ----- \n",
      " 0   product_name   5040 non-null   object\n",
      " 1   regular_price  5040 non-null   object\n",
      " 2   sale_price     5040 non-null   object\n",
      " 3   seller         5040 non-null   object\n",
      " 4   size           5040 non-null   object\n",
      " 5   brand          5040 non-null   object\n",
      "dtypes: object(6)\n",
      "memory usage: 236.4+ KB\n"
     ]
    }
   ],
   "source": [
    "df.info()"
   ]
  },
  {
   "cell_type": "code",
   "execution_count": 8,
   "id": "53290050",
   "metadata": {},
   "outputs": [],
   "source": [
    "#datatype conversion for further analysis \n",
    "df['regular_price'] = df['regular_price'].astype(int)\n",
    "df['sale_price']=df['sale_price'].astype(int)"
   ]
  },
  {
   "cell_type": "code",
   "execution_count": 9,
   "id": "3a93c7b7",
   "metadata": {},
   "outputs": [],
   "source": [
    "#dropping duplicates \n",
    "df = df.drop_duplicates()"
   ]
  },
  {
   "cell_type": "code",
   "execution_count": 10,
   "id": "68da0d21",
   "metadata": {},
   "outputs": [
    {
     "name": "stdout",
     "output_type": "stream",
     "text": [
      "<class 'pandas.core.frame.DataFrame'>\n",
      "Int64Index: 105 entries, 0 to 4992\n",
      "Data columns (total 6 columns):\n",
      " #   Column         Non-Null Count  Dtype \n",
      "---  ------         --------------  ----- \n",
      " 0   product_name   105 non-null    object\n",
      " 1   regular_price  105 non-null    int32 \n",
      " 2   sale_price     105 non-null    int32 \n",
      " 3   seller         105 non-null    object\n",
      " 4   size           105 non-null    object\n",
      " 5   brand          105 non-null    object\n",
      "dtypes: int32(2), object(4)\n",
      "memory usage: 4.9+ KB\n"
     ]
    }
   ],
   "source": [
    "df.info()"
   ]
  },
  {
   "cell_type": "code",
   "execution_count": 11,
   "id": "c5c0f61d",
   "metadata": {},
   "outputs": [
    {
     "data": {
      "text/plain": [
       "product_name     0\n",
       "regular_price    0\n",
       "sale_price       0\n",
       "seller           0\n",
       "size             0\n",
       "brand            0\n",
       "dtype: int64"
      ]
     },
     "execution_count": 11,
     "metadata": {},
     "output_type": "execute_result"
    }
   ],
   "source": [
    "#Check for missing values:\n",
    "df.isnull().sum()"
   ]
  },
  {
   "cell_type": "code",
   "execution_count": 12,
   "id": "88f9c2b8",
   "metadata": {},
   "outputs": [
    {
     "data": {
      "text/html": [
       "<div>\n",
       "<style scoped>\n",
       "    .dataframe tbody tr th:only-of-type {\n",
       "        vertical-align: middle;\n",
       "    }\n",
       "\n",
       "    .dataframe tbody tr th {\n",
       "        vertical-align: top;\n",
       "    }\n",
       "\n",
       "    .dataframe thead th {\n",
       "        text-align: right;\n",
       "    }\n",
       "</style>\n",
       "<table border=\"1\" class=\"dataframe\">\n",
       "  <thead>\n",
       "    <tr style=\"text-align: right;\">\n",
       "      <th></th>\n",
       "      <th>regular_price</th>\n",
       "      <th>sale_price</th>\n",
       "    </tr>\n",
       "  </thead>\n",
       "  <tbody>\n",
       "    <tr>\n",
       "      <th>count</th>\n",
       "      <td>105.000000</td>\n",
       "      <td>105.000000</td>\n",
       "    </tr>\n",
       "    <tr>\n",
       "      <th>mean</th>\n",
       "      <td>47.428571</td>\n",
       "      <td>56.990476</td>\n",
       "    </tr>\n",
       "    <tr>\n",
       "      <th>std</th>\n",
       "      <td>82.066912</td>\n",
       "      <td>176.401721</td>\n",
       "    </tr>\n",
       "    <tr>\n",
       "      <th>min</th>\n",
       "      <td>5.000000</td>\n",
       "      <td>5.000000</td>\n",
       "    </tr>\n",
       "    <tr>\n",
       "      <th>25%</th>\n",
       "      <td>20.000000</td>\n",
       "      <td>18.000000</td>\n",
       "    </tr>\n",
       "    <tr>\n",
       "      <th>50%</th>\n",
       "      <td>29.000000</td>\n",
       "      <td>25.000000</td>\n",
       "    </tr>\n",
       "    <tr>\n",
       "      <th>75%</th>\n",
       "      <td>49.000000</td>\n",
       "      <td>40.000000</td>\n",
       "    </tr>\n",
       "    <tr>\n",
       "      <th>max</th>\n",
       "      <td>775.000000</td>\n",
       "      <td>1800.000000</td>\n",
       "    </tr>\n",
       "  </tbody>\n",
       "</table>\n",
       "</div>"
      ],
      "text/plain": [
       "       regular_price   sale_price\n",
       "count     105.000000   105.000000\n",
       "mean       47.428571    56.990476\n",
       "std        82.066912   176.401721\n",
       "min         5.000000     5.000000\n",
       "25%        20.000000    18.000000\n",
       "50%        29.000000    25.000000\n",
       "75%        49.000000    40.000000\n",
       "max       775.000000  1800.000000"
      ]
     },
     "execution_count": 12,
     "metadata": {},
     "output_type": "execute_result"
    }
   ],
   "source": [
    "#Look at some summary statistics of the numerical columns:\n",
    "df.describe()\n"
   ]
  },
  {
   "cell_type": "code",
   "execution_count": 14,
   "id": "e379a437",
   "metadata": {},
   "outputs": [
    {
     "data": {
      "image/png": "[encoded data removed]",
      "text/plain": [
       "<Figure size 640x480 with 1 Axes>"
      ]
     },
     "metadata": {},
     "output_type": "display_data"
    }
   ],
   "source": [
    "#Create some visualizations to get a better understanding of the data:\n",
    "\n",
    "sns.scatterplot(y='regular_price', x='sale_price', data=df)\n",
    "plt.show()\n"
   ]
  },
  {
   "cell_type": "markdown",
   "id": "cb505010",
   "metadata": {},
   "source": [
    "A scatterplot is a type of data display that shows the relationship between two numerical variables.When the y variable tends to increase as the x variable increases, we say there is a positive correlation between the variables.\n",
    "When the y variable tends to decrease as the x variable increases, we say there is a negative correlation between the variables.When there is no clear relationship between the two variables, we say there is no correlation between the two variables.\n",
    "More or less we can say there is neagtive correlation(approx) between the variables."
   ]
  },
  {
   "cell_type": "markdown",
   "id": "c203f53e",
   "metadata": {},
   "source": [
    "Here we can observe 2-3 outliers in both the variables.\n"
   ]
  },
  {
   "cell_type": "code",
   "execution_count": 17,
   "id": "d5683d00",
   "metadata": {},
   "outputs": [],
   "source": [
    "from scipy import stats"
   ]
  },
  {
   "cell_type": "code",
   "execution_count": 18,
   "id": "2ec44134",
   "metadata": {},
   "outputs": [],
   "source": [
    "# Calculate the Z-scores of the regular_price column\n",
    "z_scores = stats.zscore(df['regular_price'])\n",
    "\n",
    "# Find the index of the rows with Z-scores greater than 3\n",
    "outliers = np.where(z_scores > 3)\n",
    "# Drop the rows with outliers\n",
    "df = df.drop(df.index[outliers])"
   ]
  },
  {
   "cell_type": "markdown",
   "id": "a2956592",
   "metadata": {},
   "source": [
    "Z-score is a statistical measurement that describes a value's relationship to the mean of a group of values. Z-score is measured in terms of standard deviations from the mean. If a Z-score is 0, it indicates that the data point's score is identical to the mean score. A Z-score of 1.0 would indicate a value that is one standard deviation from the mean. Z-scores may be positive or negative, with a positive value indicating the score is above the mean and a negative score indicating it is below the mean."
   ]
  },
  {
   "cell_type": "code",
   "execution_count": 22,
   "id": "cc81fb80",
   "metadata": {},
   "outputs": [
    {
     "data": {
      "image/png": "[encoded data removed]",
      "text/plain": [
       "<Figure size 640x480 with 2 Axes>"
      ]
     },
     "metadata": {},
     "output_type": "display_data"
    }
   ],
   "source": [
    "#Heatmaps to see the correlation between numerical columns:\n",
    "\n",
    "sns.heatmap(df[['regular_price', 'sale_price']].corr(), annot=True)\n",
    "plt.show()"
   ]
  },
  {
   "cell_type": "markdown",
   "id": "0b659ff4",
   "metadata": {},
   "source": [
    "As we can conclude that the correlation between sale_price and regular_price is -0.0026 which is approximately negative.\n",
    "Negative or inverse correlation describes when two variables tend to move in opposite sizes and directions from one another, such that when one increases the other variable decreases, and vice-versa."
   ]
  },
  {
   "cell_type": "markdown",
   "id": "0bc73cb4",
   "metadata": {},
   "source": [
    "# STATISTICAL DATA ANALYSIS"
   ]
  },
  {
   "cell_type": "code",
   "execution_count": 23,
   "id": "c16e4e4f",
   "metadata": {},
   "outputs": [
    {
     "data": {
      "image/png": "[encoded data removed]",
      "text/plain": [
       "<Figure size 640x480 with 1 Axes>"
      ]
     },
     "metadata": {},
     "output_type": "display_data"
    },
    {
     "data": {
      "image/png": "[encoded data removed]",
      "text/plain": [
       "<Figure size 640x480 with 1 Axes>"
      ]
     },
     "metadata": {},
     "output_type": "display_data"
    }
   ],
   "source": [
    "#Check for normality of the data by creating a histogram and/or Q-Q plot:\n",
    "\n",
    "# Histogram\n",
    "plt.hist(df['regular_price'])\n",
    "plt.show()\n",
    "\n",
    "# Q-Q plot\n",
    "import scipy.stats as stats\n",
    "\n",
    "stats.probplot(df['regular_price'], plot=plt)\n",
    "plt.show()"
   ]
  },
  {
   "cell_type": "markdown",
   "id": "0f16984a",
   "metadata": {},
   "source": [
    "We can conclude that it is an right skewed histogram.The relation between right skewed histogram mean, median, and mode is Mean > Median > Mode."
   ]
  },
  {
   "cell_type": "code",
   "execution_count": 24,
   "id": "2ac64100",
   "metadata": {},
   "outputs": [
    {
     "name": "stdout",
     "output_type": "stream",
     "text": [
      "37.63106796116505\n",
      "29.0\n",
      "28.337597242457388\n",
      "2.477325962822863\n",
      "9.832000149679198\n"
     ]
    }
   ],
   "source": [
    "#Calculate some summary statistics:\n",
    "\n",
    "\n",
    "# Mean\n",
    "print(df['regular_price'].mean())\n",
    "\n",
    "# Median\n",
    "print(df['regular_price'].median())\n",
    "\n",
    "# Standard deviation\n",
    "print(df['regular_price'].std())\n",
    "\n",
    "# Skewness\n",
    "print(df['regular_price'].skew())\n",
    "\n",
    "# Kurtosis\n",
    "print(df['regular_price'].kurt())"
   ]
  },
  {
   "cell_type": "markdown",
   "id": "e9d6b869",
   "metadata": {},
   "source": [
    "Here we see the values for mean median and mode and can check skewness and kurtosis.A skewness value greater than 1 or less than -1 indicates a highly skewed distribution. A value between 0.5 and 1 or -0.5 and -1 is moderately skewed. A value between -0.5 and 0.5 indicates that the distribution is fairly symmetrical.Kurtosis describes the \"fatness\" of the tails found in probability distributions."
   ]
  },
  {
   "cell_type": "code",
   "execution_count": 25,
   "id": "99f169cf",
   "metadata": {},
   "outputs": [
    {
     "data": {
      "text/plain": [
       "Ttest_indResult(statistic=nan, pvalue=nan)"
      ]
     },
     "execution_count": 25,
     "metadata": {},
     "output_type": "execute_result"
    }
   ],
   "source": [
    "#Test for statistical significance between two groups:\n",
    "\n",
    "# For example, to test for a difference in regular_price between products sold by seller A and seller B:\n",
    "from scipy.stats import ttest_ind\n",
    "\n",
    "seller_a = df[df['seller'] == 'A']['regular_price']\n",
    "seller_b = df[df['seller'] == 'B']['regular_price']\n",
    "\n",
    "ttest_ind(seller_a, seller_b)"
   ]
  },
  {
   "cell_type": "code",
   "execution_count": 26,
   "id": "45e9c51e",
   "metadata": {},
   "outputs": [],
   "source": [
    "#Use regression to predict a numerical value:\n",
    "\n",
    "from sklearn.linear_model import LinearRegression\n",
    "\n",
    "# Split the data into predictor (X) and target (y) variables\n",
    "X = df[['regular_price']]\n",
    "y = df['sale_price']\n",
    "\n",
    "# Fit a linear regression model\n",
    "model = LinearRegression()\n",
    "model.fit(X, y)\n",
    "\n",
    "# Make predictions\n",
    "predictions = model.predict(X)"
   ]
  },
  {
   "cell_type": "markdown",
   "id": "f5ebd41f",
   "metadata": {},
   "source": [
    "To check the accuracy of your prediction model, you can compare the predicted values to the actual values and calculate the error. One common metric for evaluating regression models is the mean squared error (MSE), which is calculated as the average of the squared differences between the predicted and actual values.\n",
    "\n",
    "Here's how you can calculate the MSE for your model:\n"
   ]
  },
  {
   "cell_type": "code",
   "execution_count": 27,
   "id": "5b7524f1",
   "metadata": {},
   "outputs": [
    {
     "name": "stdout",
     "output_type": "stream",
     "text": [
      "31388.409278247807\n"
     ]
    }
   ],
   "source": [
    "from sklearn.metrics import mean_squared_error\n",
    "\n",
    "# Calculate the mean squared error\n",
    "mse = mean_squared_error(y, predictions)\n",
    "print(mse)"
   ]
  },
  {
   "cell_type": "code",
   "execution_count": 28,
   "id": "1ce06088",
   "metadata": {
    "scrolled": true
   },
   "outputs": [
    {
     "name": "stdout",
     "output_type": "stream",
     "text": [
      "177.1677433345241\n"
     ]
    }
   ],
   "source": [
    "#we can also calculate the root mean squared error (RMSE) by taking the square root of the MSE:\n",
    "from math import sqrt\n",
    "\n",
    "# Calculate the root mean squared error\n",
    "rmse = sqrt(mse)\n",
    "print(rmse)"
   ]
  },
  {
   "cell_type": "markdown",
   "id": "2887febe",
   "metadata": {},
   "source": [
    "Another common metric for evaluating regression models is the coefficient of determination, or R-squared. This metric measures the proportion of the variance in the target variable that is explained by the predictor variables. An R-squared value of 1 indicates a perfect prediction, and a value of 0 means the model is no better than guessing the mean of the target variable.\n",
    "\n",
    "You can calculate the R-squared value for your model like this:\n"
   ]
  },
  {
   "cell_type": "code",
   "execution_count": 29,
   "id": "7cfde3af",
   "metadata": {},
   "outputs": [
    {
     "name": "stdout",
     "output_type": "stream",
     "text": [
      "0.00036512819649581196\n"
     ]
    }
   ],
   "source": [
    "# Calculate the R-squared value\n",
    "r2 = model.score(X, y)\n",
    "print(r2)"
   ]
  },
  {
   "cell_type": "code",
   "execution_count": 30,
   "id": "3eb16918",
   "metadata": {},
   "outputs": [],
   "source": [
    "df.to_csv('poshmark_df.csv', index=False)\n"
   ]
  }
 ],
 "metadata": {
  "kernelspec": {
   "display_name": "Python 3 (ipykernel)",
   "language": "python",
   "name": "python3"
  },
  "language_info": {
   "codemirror_mode": {
    "name": "ipython",
    "version": 3
   },
   "file_extension": ".py",
   "mimetype": "text/x-python",
   "name": "python",
   "nbconvert_exporter": "python",
   "pygments_lexer": "ipython3",
   "version": "3.9.13"
  }
 },
 "nbformat": 4,
 "nbformat_minor": 5
}
